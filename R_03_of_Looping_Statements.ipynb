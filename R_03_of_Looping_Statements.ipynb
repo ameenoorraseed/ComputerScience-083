{
  "nbformat": 4,
  "nbformat_minor": 0,
  "metadata": {
    "colab": {
      "name": "R_03 of Looping Statements.ipynb",
      "provenance": [],
      "collapsed_sections": [],
      "include_colab_link": true
    },
    "kernelspec": {
      "name": "python3",
      "display_name": "Python 3"
    }
  },
  "cells": [
    {
      "cell_type": "markdown",
      "metadata": {
        "id": "view-in-github",
        "colab_type": "text"
      },
      "source": [
        "<a href=\"https://colab.research.google.com/github/ameenoorraseed/Python/blob/main/R_03_of_Looping_Statements.ipynb\" target=\"_parent\"><img src=\"https://colab.research.google.com/assets/colab-badge.svg\" alt=\"Open In Colab\"/></a>"
      ]
    },
    {
      "cell_type": "markdown",
      "metadata": {
        "id": "CGAqacuJ9bvO"
      },
      "source": [
        "#Looping or Iterative Statments:\n",
        "\n",
        "Python programming language provides following types of loops to handle looping requirements. Python provides three ways for executing the loops. While all the ways provide similar basic functionality, they differ in their syntax and condition checking time.\n",
        "\n",
        "\n",
        "While Loop:\n",
        "\n",
        "In python, while loop is used to execute a block of statements repeatedly until a given a condition is satisfied. And when the condition becomes false, the line immediately after the loop in program is executed.\n",
        "\n",
        "Syntax :\n",
        "\n",
        "\n",
        "while (expression):\n",
        "  statement(S)\n",
        "  "
      ]
    },
    {
      "cell_type": "code",
      "source": [
        "# sequence -> continuous -> list -> strings -> tuples\n",
        "\n",
        "for letter in 12:\n",
        "\n",
        "    print(\"letter :\",letter)"
      ],
      "metadata": {
        "colab": {
          "base_uri": "https://localhost:8080/",
          "height": 235
        },
        "id": "UGosiZwhH_dB",
        "outputId": "09170ca4-e7eb-4667-84b9-7b9907f00817"
      },
      "execution_count": null,
      "outputs": [
        {
          "output_type": "error",
          "ename": "TypeError",
          "evalue": "ignored",
          "traceback": [
            "\u001b[0;31m---------------------------------------------------------------------------\u001b[0m",
            "\u001b[0;31mTypeError\u001b[0m                                 Traceback (most recent call last)",
            "\u001b[0;32m<ipython-input-2-4e5eaec2d2e6>\u001b[0m in \u001b[0;36m<module>\u001b[0;34m()\u001b[0m\n\u001b[1;32m      1\u001b[0m \u001b[0;31m# sequence -> continuous -> list -> strings -> tuples\u001b[0m\u001b[0;34m\u001b[0m\u001b[0;34m\u001b[0m\u001b[0;34m\u001b[0m\u001b[0m\n\u001b[1;32m      2\u001b[0m \u001b[0;34m\u001b[0m\u001b[0m\n\u001b[0;32m----> 3\u001b[0;31m \u001b[0;32mfor\u001b[0m \u001b[0mletter\u001b[0m \u001b[0;32min\u001b[0m \u001b[0;36m12\u001b[0m\u001b[0;34m:\u001b[0m\u001b[0;34m\u001b[0m\u001b[0;34m\u001b[0m\u001b[0m\n\u001b[0m\u001b[1;32m      4\u001b[0m \u001b[0;34m\u001b[0m\u001b[0m\n\u001b[1;32m      5\u001b[0m     \u001b[0mprint\u001b[0m\u001b[0;34m(\u001b[0m\u001b[0;34m\"letter :\"\u001b[0m\u001b[0;34m,\u001b[0m\u001b[0mletter\u001b[0m\u001b[0;34m)\u001b[0m\u001b[0;34m\u001b[0m\u001b[0;34m\u001b[0m\u001b[0m\n",
            "\u001b[0;31mTypeError\u001b[0m: 'int' object is not iterable"
          ]
        }
      ]
    },
    {
      "cell_type": "code",
      "metadata": {
        "colab": {
          "base_uri": "https://localhost:8080/"
        },
        "id": "kLxBMZXT_Mgb",
        "outputId": "505575a1-af95-4055-a4d2-b3db46213d17"
      },
      "source": [
        "for letter in 'aeiou':\n",
        "    print(\"letter :\",letter)"
      ],
      "execution_count": null,
      "outputs": [
        {
          "output_type": "stream",
          "name": "stdout",
          "text": [
            "letter : a\n",
            "letter : e\n",
            "letter : i\n",
            "letter : o\n",
            "letter : u\n"
          ]
        }
      ]
    },
    {
      "cell_type": "code",
      "metadata": {
        "id": "RfFcY5r-W8Zl"
      },
      "source": [
        "for i in range(5): #0,1,2,3,4\n",
        "    print(i)"
      ],
      "execution_count": null,
      "outputs": []
    },
    {
      "cell_type": "code",
      "metadata": {
        "id": "U7ZkF36DXHR1",
        "colab": {
          "base_uri": "https://localhost:8080/"
        },
        "outputId": "5f84fe8c-17af-460e-ac19-a4d9b7b99f3d"
      },
      "source": [
        "i = 45# 57 #69 #81\n",
        "while i<77: #1\n",
        "    print(i) \n",
        "    i=i+12\n",
        "\n",
        "# 45\n",
        "# 57\n",
        "# 69"
      ],
      "execution_count": null,
      "outputs": [
        {
          "output_type": "stream",
          "name": "stdout",
          "text": [
            "45\n",
            "57\n",
            "69\n"
          ]
        }
      ]
    },
    {
      "cell_type": "code",
      "source": [
        "\n",
        "i = 52\n",
        "\n",
        "while i<77 and i>50:\n",
        "\n",
        "    print(i) \n",
        "    i=i+8\n",
        "\n"
      ],
      "metadata": {
        "id": "0Bmdsws8Lmby"
      },
      "execution_count": null,
      "outputs": []
    },
    {
      "cell_type": "code",
      "metadata": {
        "id": "cc-dqfm59Y3v"
      },
      "source": [
        "# Iterative Statements -  while loop\n",
        "num = 5\n",
        "while (num >= 0):\n",
        "  print(num)\n",
        "  num -= 1"
      ],
      "execution_count": null,
      "outputs": []
    },
    {
      "cell_type": "markdown",
      "metadata": {
        "id": "eS9vf8igqfr0"
      },
      "source": [
        "#Continue - keyword"
      ]
    },
    {
      "cell_type": "code",
      "source": [
        "0  1  2  3  4  5  6  7  8  9"
      ],
      "metadata": {
        "id": "HflnTV5sTq_L"
      },
      "execution_count": null,
      "outputs": []
    },
    {
      "cell_type": "code",
      "metadata": {
        "id": "_vusN8uLBx-S"
      },
      "source": [
        "# CONTINUE\n",
        "# I should skip the current iteration and move on to the next one\n",
        "for i in range(10):\n",
        "    if i%2==0:\n",
        "        continue \n",
        "        print(\"it is skipped\")\n",
        "        print(\"it is skipped\") \n",
        "    # else:\n",
        "    #     print(i)"
      ],
      "execution_count": null,
      "outputs": []
    },
    {
      "cell_type": "code",
      "source": [
        "for i in range(3):\n",
        "    if i%2==0:\n",
        "        print(\"it is not skipped skipped\")\n",
        "        continue \n",
        "        print(2+2) "
      ],
      "metadata": {
        "colab": {
          "base_uri": "https://localhost:8080/"
        },
        "id": "PPj48tT1Ujq5",
        "outputId": "1cd64bfb-0789-4ccc-ced1-3e7032ecb543"
      },
      "execution_count": null,
      "outputs": [
        {
          "output_type": "stream",
          "name": "stdout",
          "text": [
            "it is not skipped skipped\n",
            "it is not skipped skipped\n"
          ]
        }
      ]
    },
    {
      "cell_type": "code",
      "metadata": {
        "id": "XI_KHTUy9LeM",
        "colab": {
          "base_uri": "https://localhost:8080/"
        },
        "outputId": "4c1ca8dc-568f-44b8-e034-f82409322a33"
      },
      "source": [
        "\n",
        "num = 6\n",
        "while num <= 12:  \n",
        "    num = num + 1\n",
        "    if num % 2 == 0:\n",
        "        #continue #skip\n",
        "        print('hello')\n",
        "    else:\n",
        "        print(num)\n",
        "    \n",
        "# num = 9"
      ],
      "execution_count": null,
      "outputs": [
        {
          "output_type": "stream",
          "name": "stdout",
          "text": [
            "7\n",
            "hello\n",
            "9\n",
            "hello\n",
            "11\n",
            "hello\n",
            "13\n"
          ]
        }
      ]
    },
    {
      "cell_type": "code",
      "metadata": {
        "id": "_r6P9Pw9DRVw",
        "colab": {
          "base_uri": "https://localhost:8080/"
        },
        "outputId": "a9b2ca36-288c-4038-eca0-e85b43582e1b"
      },
      "source": [
        "# Iterative Statements - while loop\n",
        "\n",
        "num = 3\n",
        "\n",
        "if num % 2 == 1 : \n",
        "    num = num - 1\n",
        "\n",
        "while num <= 12:\n",
        "    print(num)              \n",
        "    num = num + 2"
      ],
      "execution_count": null,
      "outputs": [
        {
          "output_type": "stream",
          "name": "stdout",
          "text": [
            "2\n",
            "4\n",
            "6\n",
            "8\n",
            "10\n",
            "12\n"
          ]
        }
      ]
    },
    {
      "cell_type": "code",
      "source": [
        ""
      ],
      "metadata": {
        "id": "JkaeHOMxXYQC"
      },
      "execution_count": null,
      "outputs": []
    },
    {
      "cell_type": "code",
      "metadata": {
        "id": "Wf0vztFWFOzG"
      },
      "source": [
        ""
      ],
      "execution_count": null,
      "outputs": []
    },
    {
      "cell_type": "code",
      "metadata": {
        "id": "dL-qzKynY2N5"
      },
      "source": [
        "print(not '')"
      ],
      "execution_count": null,
      "outputs": []
    },
    {
      "cell_type": "markdown",
      "metadata": {
        "id": "D3scrF5AqjAD"
      },
      "source": [
        "#Break"
      ]
    },
    {
      "cell_type": "code",
      "source": [
        "for i in range(10):\n",
        "    if i==4: # stop the entire loop\n",
        "        break\n",
        "    else:\n",
        "        print(i)"
      ],
      "metadata": {
        "colab": {
          "base_uri": "https://localhost:8080/"
        },
        "id": "iCLiuwIETVw2",
        "outputId": "9218e4e5-08d6-4637-ab89-a040714e4a86"
      },
      "execution_count": null,
      "outputs": [
        {
          "output_type": "stream",
          "name": "stdout",
          "text": [
            "0\n",
            "1\n",
            "2\n",
            "3\n"
          ]
        }
      ]
    },
    {
      "cell_type": "code",
      "source": [
        "for i in range(10):\n",
        "    if i == 4 or i == 7: # skip that particular iteration\n",
        "        continue\n",
        "    else:\n",
        "        print(i)"
      ],
      "metadata": {
        "colab": {
          "base_uri": "https://localhost:8080/"
        },
        "id": "L8Hg5T57SzJe",
        "outputId": "0a54a165-b2da-45b5-bc36-ae03f76d91dd"
      },
      "execution_count": null,
      "outputs": [
        {
          "output_type": "stream",
          "name": "stdout",
          "text": [
            "0\n",
            "1\n",
            "2\n",
            "3\n",
            "5\n",
            "6\n",
            "8\n",
            "9\n"
          ]
        }
      ]
    },
    {
      "cell_type": "code",
      "metadata": {
        "id": "XJc76CeSWb33",
        "colab": {
          "base_uri": "https://localhost:8080/"
        },
        "outputId": "465a186f-a584-4eaa-a906-e5c1fe7aff6a"
      },
      "source": [
        "#all controls are bound to the user\n",
        "i=0 #initialize_counter\n",
        "while not False: #start\n",
        "    if i==4: # stop\n",
        "        break\n",
        "    print(i)\n",
        "    i+=1 #counter_increment"
      ],
      "execution_count": null,
      "outputs": [
        {
          "output_type": "stream",
          "name": "stdout",
          "text": [
            "0\n",
            "1\n",
            "2\n",
            "3\n"
          ]
        }
      ]
    },
    {
      "cell_type": "code",
      "metadata": {
        "id": "gvuS8DuJDj_z",
        "colab": {
          "base_uri": "https://localhost:8080/"
        },
        "outputId": "811aef75-899f-44a3-93d4-80beef0c31e0"
      },
      "source": [
        "# Iterative Statements - while loop\n",
        "num = 5\n",
        "if num%2 == 1: \n",
        "  num = num -1 \n",
        "while 'test one' :\n",
        "  print(num)        \n",
        "  num = num + 2\n",
        "  \n",
        "  if num >= 12: \n",
        "    break"
      ],
      "execution_count": null,
      "outputs": [
        {
          "output_type": "stream",
          "name": "stdout",
          "text": [
            "4\n",
            "6\n",
            "8\n",
            "10\n"
          ]
        }
      ]
    },
    {
      "cell_type": "code",
      "metadata": {
        "id": "oMIwXpXVDtFs",
        "colab": {
          "base_uri": "https://localhost:8080/"
        },
        "outputId": "2f65b6a7-eeba-4432-a224-d96f9e871f84"
      },
      "source": [
        "# Iterative Statements - while loop\n",
        "num = 6\n",
        "if num%2 == 1: \n",
        "  num = num -1\n",
        "while 'value': # any variable or object that has a value \n",
        "  print(num)  \n",
        "  num = num + 2\n",
        "  if num >= 12: \n",
        "    break"
      ],
      "execution_count": null,
      "outputs": [
        {
          "output_type": "stream",
          "name": "stdout",
          "text": [
            "6\n",
            "8\n",
            "10\n"
          ]
        }
      ]
    },
    {
      "cell_type": "code",
      "source": [
        "#'' [] () {} 0.0 False"
      ],
      "metadata": {
        "id": "uU4Dz4M7V174"
      },
      "execution_count": null,
      "outputs": []
    },
    {
      "cell_type": "code",
      "metadata": {
        "id": "G3zkwDNZDwRz",
        "colab": {
          "base_uri": "https://localhost:8080/"
        },
        "outputId": "2095c51c-2afd-461b-c451-2e27192b5c11"
      },
      "source": [
        "# Iterative Statements - while loop\n",
        "num = 6\n",
        "if num%2 == 1 : \n",
        "  num = num -1\n",
        "while not 0:\n",
        "  print(num)\n",
        "  num = num + 2\n",
        "  if num >= 12:\n",
        "    break"
      ],
      "execution_count": null,
      "outputs": [
        {
          "output_type": "stream",
          "name": "stdout",
          "text": [
            "6\n",
            "8\n",
            "10\n"
          ]
        }
      ]
    },
    {
      "cell_type": "code",
      "metadata": {
        "id": "DX5Le5QaD1MC",
        "colab": {
          "base_uri": "https://localhost:8080/"
        },
        "outputId": "12926571-04ed-4973-c81a-222dd89d1cbc"
      },
      "source": [
        "# Iterative Statements - while loop\n",
        "num = 6\n",
        "if num%2 == 1 : \n",
        "  num = num -1\n",
        "while 'roja': # None is false and not None is true\n",
        "  print(num)  #6 8 10 \n",
        "  num = num + 2\n",
        "  if num >= 12: \n",
        "    break"
      ],
      "execution_count": null,
      "outputs": [
        {
          "output_type": "stream",
          "name": "stdout",
          "text": [
            "6\n",
            "8\n",
            "10\n"
          ]
        }
      ]
    },
    {
      "cell_type": "markdown",
      "source": [
        "#Difference between break and continue\n",
        "continue:loop will be skip at particular iteration.it will jump to next iteration\n",
        "break; completely stop based on the condition.\n"
      ],
      "metadata": {
        "id": "ddd26nwrYupZ"
      }
    },
    {
      "cell_type": "code",
      "source": [
        "#write your own example"
      ],
      "metadata": {
        "id": "wparvtJlWgRn"
      },
      "execution_count": null,
      "outputs": []
    },
    {
      "cell_type": "code",
      "source": [
        "num=8\n",
        "if num%2==0:\n",
        "  num=num-1\n",
        "while \"aashvi\" :\n",
        "    print(num)\n",
        "    num=num+2\n",
        "    if num>=12:\n",
        "      break\n"
      ],
      "metadata": {
        "colab": {
          "base_uri": "https://localhost:8080/"
        },
        "id": "5FuOd7-oXTJE",
        "outputId": "f0241687-c4e7-4cff-957b-c622d5b2521d"
      },
      "execution_count": null,
      "outputs": [
        {
          "output_type": "stream",
          "name": "stdout",
          "text": [
            "7\n",
            "9\n",
            "11\n"
          ]
        }
      ]
    },
    {
      "cell_type": "markdown",
      "metadata": {
        "id": "hNfeYsM-qnQj"
      },
      "source": [
        "#ASCII"
      ]
    },
    {
      "cell_type": "code",
      "source": [
        "'abc' > 'ABC'\n",
        "#97 > 65"
      ],
      "metadata": {
        "colab": {
          "base_uri": "https://localhost:8080/"
        },
        "id": "pfui99SZZeGQ",
        "outputId": "71e60ff5-ef44-4ac9-8fc3-3e88c039c05b"
      },
      "execution_count": null,
      "outputs": [
        {
          "output_type": "execute_result",
          "data": {
            "text/plain": [
              "True"
            ]
          },
          "metadata": {},
          "execution_count": 19
        }
      ]
    },
    {
      "cell_type": "code",
      "source": [
        "'RoJA' > 'RojA'\n",
        "#false"
      ],
      "metadata": {
        "id": "t9EVeYJZZ7pG"
      },
      "execution_count": null,
      "outputs": []
    },
    {
      "cell_type": "code",
      "source": [
        ""
      ],
      "metadata": {
        "id": "i7z1uwxYalye"
      },
      "execution_count": null,
      "outputs": []
    },
    {
      "cell_type": "code",
      "source": [
        "'Ro12' < 'Ji21'\n",
        "#true"
      ],
      "metadata": {
        "id": "EYPgcGp3aUJ2",
        "colab": {
          "base_uri": "https://localhost:8080/"
        },
        "outputId": "3a338172-dea4-434c-c7eb-58fbdc396de5"
      },
      "execution_count": null,
      "outputs": [
        {
          "output_type": "execute_result",
          "data": {
            "text/plain": [
              "False"
            ]
          },
          "metadata": {},
          "execution_count": 20
        }
      ]
    },
    {
      "cell_type": "code",
      "source": [
        "'123' > 'hi'\n",
        "\n",
        "#48 > 97\n",
        "#false"
      ],
      "metadata": {
        "id": "FOVFSiDjaX9e",
        "colab": {
          "base_uri": "https://localhost:8080/"
        },
        "outputId": "2646738a-a1a6-4afb-9659-3da66317a5b2"
      },
      "execution_count": null,
      "outputs": [
        {
          "output_type": "execute_result",
          "data": {
            "text/plain": [
              "False"
            ]
          },
          "metadata": {},
          "execution_count": 32
        }
      ]
    },
    {
      "cell_type": "code",
      "metadata": {
        "id": "CWnM3uVWm9TU"
      },
      "source": [
        "#print('mouse'<'mOuse')\n",
        "\n",
        "#ASCII - ORD - CHR\n",
        "#91<118\n",
        "# 0 - 48 \n",
        "# A - 65-90\n",
        "# a - 97-122\n",
        "#print(ord('a'))\n",
        "#print(chr(ord(chr(97))))"
      ],
      "execution_count": null,
      "outputs": []
    },
    {
      "cell_type": "code",
      "source": [
        "'1' -> it will consider ascii values\n",
        "1 -> the original value"
      ],
      "metadata": {
        "id": "6r5UfeHJdSZG"
      },
      "execution_count": null,
      "outputs": []
    },
    {
      "cell_type": "code",
      "source": [
        "'1' > 'a'"
      ],
      "metadata": {
        "colab": {
          "base_uri": "https://localhost:8080/"
        },
        "id": "y3Al6_KUdZZV",
        "outputId": "d89b498c-27c4-40bb-ba77-8581d0f2a0d1"
      },
      "execution_count": null,
      "outputs": [
        {
          "output_type": "execute_result",
          "data": {
            "text/plain": [
              "False"
            ]
          },
          "metadata": {},
          "execution_count": 23
        }
      ]
    },
    {
      "cell_type": "code",
      "metadata": {
        "id": "Ly6Cml4PdbpX",
        "colab": {
          "base_uri": "https://localhost:8080/",
          "height": 35
        },
        "outputId": "d2566ed0-26e9-44d0-d6bc-0151746b5469"
      },
      "source": [
        "# get the character from number\n",
        "chr(64) "
      ],
      "execution_count": null,
      "outputs": [
        {
          "output_type": "execute_result",
          "data": {
            "application/vnd.google.colaboratory.intrinsic+json": {
              "type": "string"
            },
            "text/plain": [
              "'@'"
            ]
          },
          "metadata": {},
          "execution_count": 26
        }
      ]
    },
    {
      "cell_type": "code",
      "metadata": {
        "id": "RyjNywxLctkN",
        "colab": {
          "base_uri": "https://localhost:8080/"
        },
        "outputId": "929ca00b-3a12-4c47-c21f-e5daa325fcc9"
      },
      "source": [
        "# get the number from  character\n",
        "ord('*')"
      ],
      "execution_count": null,
      "outputs": [
        {
          "output_type": "execute_result",
          "data": {
            "text/plain": [
              "42"
            ]
          },
          "metadata": {},
          "execution_count": 28
        }
      ]
    },
    {
      "cell_type": "code",
      "source": [
        "for i in range(3000,3500):\n",
        "    print(chr(i),end=' ')"
      ],
      "metadata": {
        "id": "d_rPhAc2fMrm"
      },
      "execution_count": null,
      "outputs": []
    },
    {
      "cell_type": "code",
      "source": [
        "for i in range(3000,3500):\n",
        "    print(chr(i),end=' ')"
      ],
      "metadata": {
        "colab": {
          "base_uri": "https://localhost:8080/"
        },
        "id": "jrAUNwU-eAw3",
        "outputId": "b47cf57b-308e-4f84-df9d-01eda20971a8"
      },
      "execution_count": null,
      "outputs": [
        {
          "output_type": "stream",
          "name": "stdout",
          "text": [
            "ஸ ஹ ஺ ஻ ஼ ஽ ா ி ீ ு ூ ௃ ௄ ௅ ெ ே ை ௉ ொ ோ ௌ ் ௎ ௏ ௐ ௑ ௒ ௓ ௔ ௕ ௖ ௗ ௘ ௙ ௚ ௛ ௜ ௝ ௞ ௟ ௠ ௡ ௢ ௣ ௤ ௥ ௦ ௧ ௨ ௩ ௪ ௫ ௬ ௭ ௮ ௯ ௰ ௱ ௲ ௳ ௴ ௵ ௶ ௷ ௸ ௹ ௺ ௻ ௼ ௽ ௾ ௿ ఀ ఁ ం ః ఄ అ ఆ ఇ ఈ ఉ ఊ ఋ ఌ ఍ ఎ ఏ ఐ ఑ ఒ ఓ ఔ క ఖ గ ఘ ఙ చ ఛ జ ఝ ఞ ట ఠ డ ఢ ణ త థ ద ధ న ఩ ప ఫ బ భ మ య ర ఱ ల ళ ఴ వ శ ష స హ ఺ ఻ ఼ ఽ ా ి ీ ు ూ ృ ౄ ౅ ె ే ై ౉ ొ ో ౌ ్ ౎ ౏ ౐ ౑ ౒ ౓ ౔ ౕ ౖ ౗ ౘ ౙ ౚ ౛ ౜ ౝ ౞ ౟ ౠ ౡ ౢ ౣ ౤ ౥ ౦ ౧ ౨ ౩ ౪ ౫ ౬ ౭ ౮ ౯ ౰ ౱ ౲ ౳ ౴ ౵ ౶ ౷ ౸ ౹ ౺ ౻ ౼ ౽ ౾ ౿ ಀ ಁ ಂ ಃ ಄ ಅ ಆ ಇ ಈ ಉ ಊ ಋ ಌ ಍ ಎ ಏ ಐ ಑ ಒ ಓ ಔ ಕ ಖ ಗ ಘ ಙ ಚ ಛ ಜ ಝ ಞ ಟ ಠ ಡ ಢ ಣ ತ ಥ ದ ಧ ನ ಩ ಪ ಫ ಬ ಭ ಮ ಯ ರ ಱ ಲ ಳ ಴ ವ ಶ ಷ ಸ ಹ ಺ ಻ ಼ ಽ ಾ ಿ ೀ ು ೂ ೃ ೄ ೅ ೆ ೇ ೈ ೉ ೊ ೋ ೌ ್ ೎ ೏ ೐ ೑ ೒ ೓ ೔ ೕ ೖ ೗ ೘ ೙ ೚ ೛ ೜ ೝ ೞ ೟ ೠ ೡ ೢ ೣ ೤ ೥ ೦ ೧ ೨ ೩ ೪ ೫ ೬ ೭ ೮ ೯ ೰ ೱ ೲ ೳ ೴ ೵ ೶ ೷ ೸ ೹ ೺ ೻ ೼ ೽ ೾ ೿ ഀ ഁ ം ഃ ഄ അ ആ ഇ ഈ ഉ ഊ ഋ ഌ ഍ എ ഏ ഐ ഑ ഒ ഓ ഔ ക ഖ ഗ ഘ ങ ച ഛ ജ ഝ ഞ ട ഠ ഡ ഢ ണ ത ഥ ദ ധ ന ഩ പ ഫ ബ ഭ മ യ ര റ ല ള ഴ വ ശ ഷ സ ഹ ഺ ഻ ഼ ഽ ാ ി ീ ു ൂ ൃ ൄ ൅ െ േ ൈ ൉ ൊ ോ ൌ ് ൎ ൏ ൐ ൑ ൒ ൓ ൔ ൕ ൖ ൗ ൘ ൙ ൚ ൛ ൜ ൝ ൞ ൟ ൠ ൡ ൢ ൣ ൤ ൥ ൦ ൧ ൨ ൩ ൪ ൫ ൬ ൭ ൮ ൯ ൰ ൱ ൲ ൳ ൴ ൵ ൶ ൷ ൸ ൹ ൺ ൻ ർ ൽ ൾ ൿ ඀ ඁ ං ඃ ඄ අ ආ ඇ ඈ ඉ ඊ උ ඌ ඍ ඎ ඏ ඐ එ ඒ ඓ ඔ ඕ ඖ ඗ ඘ ඙ ක ඛ ග ඝ ඞ ඟ ච ඡ ජ ඣ ඤ ඥ ඦ ට ඨ ඩ ඪ ණ "
          ]
        }
      ]
    },
    {
      "cell_type": "code",
      "source": [
        "ord('అ')"
      ],
      "metadata": {
        "colab": {
          "base_uri": "https://localhost:8080/"
        },
        "id": "aND2ShUee13_",
        "outputId": "a0450329-0720-4333-95bb-9863c568b522"
      },
      "execution_count": null,
      "outputs": [
        {
          "output_type": "execute_result",
          "data": {
            "text/plain": [
              "3077"
            ]
          },
          "metadata": {},
          "execution_count": 33
        }
      ]
    },
    {
      "cell_type": "code",
      "source": [
        "ord('ൽ')"
      ],
      "metadata": {
        "colab": {
          "base_uri": "https://localhost:8080/"
        },
        "id": "OfK0hEEQfHP1",
        "outputId": "ffe915ae-81e8-4807-8d13-24ea555f56a7"
      },
      "execution_count": null,
      "outputs": [
        {
          "output_type": "execute_result",
          "data": {
            "text/plain": [
              "3453"
            ]
          },
          "metadata": {},
          "execution_count": 34
        }
      ]
    },
    {
      "cell_type": "markdown",
      "source": [
        ""
      ],
      "metadata": {
        "id": "9duys9G6eX7u"
      }
    },
    {
      "cell_type": "markdown",
      "source": [
        "#Home work\n",
        "try to understand the given program"
      ],
      "metadata": {
        "id": "ilds-wgjeXyD"
      }
    },
    {
      "cell_type": "code",
      "source": [
        "ord('a')"
      ],
      "metadata": {
        "colab": {
          "base_uri": "https://localhost:8080/"
        },
        "id": "ZqeMThxAfwQ4",
        "outputId": "15b7298a-297c-4771-943e-2bfebc28336b"
      },
      "execution_count": null,
      "outputs": [
        {
          "output_type": "execute_result",
          "data": {
            "text/plain": [
              "97"
            ]
          },
          "metadata": {},
          "execution_count": 36
        }
      ]
    },
    {
      "cell_type": "code",
      "source": [
        "chr(97)"
      ],
      "metadata": {
        "colab": {
          "base_uri": "https://localhost:8080/",
          "height": 35
        },
        "id": "hB-uL3-ff4Rl",
        "outputId": "7ec1006b-bd40-488d-c1ba-0b435ff44727"
      },
      "execution_count": null,
      "outputs": [
        {
          "output_type": "execute_result",
          "data": {
            "application/vnd.google.colaboratory.intrinsic+json": {
              "type": "string"
            },
            "text/plain": [
              "'a'"
            ]
          },
          "metadata": {},
          "execution_count": 37
        }
      ]
    },
    {
      "cell_type": "code",
      "source": [
        "chr(ord('a'))"
      ],
      "metadata": {
        "id": "9uwnR28Mf78m"
      },
      "execution_count": null,
      "outputs": []
    },
    {
      "cell_type": "code",
      "source": [
        "'a' > 'n'"
      ],
      "metadata": {
        "colab": {
          "base_uri": "https://localhost:8080/"
        },
        "id": "buOWrhG1gHiG",
        "outputId": "38457c63-0aa4-4bfb-cd9c-789af5dd8f66"
      },
      "execution_count": null,
      "outputs": [
        {
          "output_type": "execute_result",
          "data": {
            "text/plain": [
              "False"
            ]
          },
          "metadata": {},
          "execution_count": 38
        }
      ]
    },
    {
      "cell_type": "markdown",
      "source": [
        "# Coding challenge\n",
        "Convert the given loop into for loop"
      ],
      "metadata": {
        "id": "QNd9W3yRgZZX"
      }
    },
    {
      "cell_type": "code",
      "metadata": {
        "id": "kJj28A_QETg6",
        "colab": {
          "base_uri": "https://localhost:8080/"
        },
        "outputId": "b83d14aa-601d-4183-fe19-4a0d4bc31be0"
      },
      "source": [
        "# Iterative Statements - while loop\n",
        "Letter = 'A'\n",
        "while (Letter <= 'G'): #A   B   C  D  E  F   G \n",
        "  print(Letter)        #65  66\n",
        "  Letter = chr(ord(Letter)+1)  "
      ],
      "execution_count": null,
      "outputs": [
        {
          "output_type": "stream",
          "name": "stdout",
          "text": [
            "A\n",
            "B\n",
            "C\n",
            "D\n",
            "E\n",
            "F\n",
            "G\n"
          ]
        }
      ]
    },
    {
      "cell_type": "code",
      "source": [
        "start=65\n",
        "end=72\n",
        "for i in range(65,72):\n",
        "  print(chr(i))\n",
        "\n"
      ],
      "metadata": {
        "colab": {
          "base_uri": "https://localhost:8080/"
        },
        "id": "GO9gFLjvZ_we",
        "outputId": "6272b63d-5240-4cbd-e53c-580b377ed8e9"
      },
      "execution_count": null,
      "outputs": [
        {
          "output_type": "stream",
          "name": "stdout",
          "text": [
            "A\n",
            "B\n",
            "C\n",
            "D\n",
            "E\n",
            "F\n",
            "G\n"
          ]
        }
      ]
    },
    {
      "cell_type": "code",
      "source": [
        "letter=\"S\"\n",
        "while(letter<=\"Z\"):\n",
        "    print(letter)\n",
        "    letter=chr(ord(letter)+1)"
      ],
      "metadata": {
        "colab": {
          "base_uri": "https://localhost:8080/"
        },
        "id": "K0KqVD-kRYIx",
        "outputId": "27e5b11e-c376-4f13-e245-f6638ae1fd06"
      },
      "execution_count": null,
      "outputs": [
        {
          "output_type": "stream",
          "name": "stdout",
          "text": [
            "S\n",
            "T\n",
            "U\n",
            "V\n",
            "W\n",
            "X\n",
            "Y\n",
            "Z\n"
          ]
        }
      ]
    },
    {
      "cell_type": "code",
      "source": [
        "a=\"A\"\n",
        "\n",
        "print(a)\n",
        "chr(ord(a)+1) \n"
      ],
      "metadata": {
        "colab": {
          "base_uri": "https://localhost:8080/",
          "height": 53
        },
        "id": "-pTqWwzeRVg4",
        "outputId": "77ae04cb-c2d1-477b-92d8-530b405fca6f"
      },
      "execution_count": null,
      "outputs": [
        {
          "output_type": "stream",
          "name": "stdout",
          "text": [
            "A\n"
          ]
        },
        {
          "output_type": "execute_result",
          "data": {
            "application/vnd.google.colaboratory.intrinsic+json": {
              "type": "string"
            },
            "text/plain": [
              "'B'"
            ]
          },
          "metadata": {},
          "execution_count": 31
        }
      ]
    },
    {
      "cell_type": "code",
      "source": [
        "ord('a')"
      ],
      "metadata": {
        "colab": {
          "base_uri": "https://localhost:8080/"
        },
        "id": "H8h1GMQae_UO",
        "outputId": "ea255b77-c618-4e66-fbb3-db79a282d65a"
      },
      "execution_count": 1,
      "outputs": [
        {
          "output_type": "execute_result",
          "data": {
            "text/plain": [
              "97"
            ]
          },
          "metadata": {},
          "execution_count": 1
        }
      ]
    },
    {
      "cell_type": "code",
      "source": [
        "chr(23)"
      ],
      "metadata": {
        "colab": {
          "base_uri": "https://localhost:8080/",
          "height": 35
        },
        "id": "1X3LPQHjfDoW",
        "outputId": "64b50a8c-23b8-4fdf-a90d-8c84ba7c7c85"
      },
      "execution_count": 8,
      "outputs": [
        {
          "output_type": "execute_result",
          "data": {
            "application/vnd.google.colaboratory.intrinsic+json": {
              "type": "string"
            },
            "text/plain": [
              "'\\x17'"
            ]
          },
          "metadata": {},
          "execution_count": 8
        }
      ]
    },
    {
      "cell_type": "code",
      "source": [
        "chr(ord('a')+1)"
      ],
      "metadata": {
        "colab": {
          "base_uri": "https://localhost:8080/",
          "height": 35
        },
        "id": "LzM2JlTSfwRv",
        "outputId": "40cfd53e-5d2a-48e0-9c5c-9e94473c59bb"
      },
      "execution_count": 11,
      "outputs": [
        {
          "output_type": "execute_result",
          "data": {
            "application/vnd.google.colaboratory.intrinsic+json": {
              "type": "string"
            },
            "text/plain": [
              "'b'"
            ]
          },
          "metadata": {},
          "execution_count": 11
        }
      ]
    },
    {
      "cell_type": "code",
      "source": [
        "Letter = 'a'\n",
        "while (Letter <= 'g'):\n",
        "  print(Letter)\n",
        "  Letter=chr(ord(Letter)+1)"
      ],
      "metadata": {
        "id": "MKH_rO3YVu3s"
      },
      "execution_count": null,
      "outputs": []
    },
    {
      "cell_type": "code",
      "source": [
        "Letter = 65\n",
        "while (Letter <= 72):\n",
        "  print(chr(Letter))\n",
        "  Letter = ord(chr(Letter))+1"
      ],
      "metadata": {
        "id": "tJhwiICzg3C3"
      },
      "execution_count": null,
      "outputs": []
    },
    {
      "cell_type": "markdown",
      "source": [
        "# Exercise\n",
        "Try the above code in for loop"
      ],
      "metadata": {
        "id": "SOtP8cgog7DT"
      }
    },
    {
      "cell_type": "code",
      "source": [
        ""
      ],
      "metadata": {
        "id": "bLlFzULYg-mu"
      },
      "execution_count": null,
      "outputs": []
    },
    {
      "cell_type": "markdown",
      "source": [
        "#Loops with else part"
      ],
      "metadata": {
        "id": "JkVLMKRU6Ry6"
      }
    },
    {
      "cell_type": "code",
      "source": [
        "# Convert the given program into for loop"
      ],
      "metadata": {
        "id": "HQaE4fNlgSpX"
      },
      "execution_count": null,
      "outputs": []
    },
    {
      "cell_type": "code",
      "metadata": {
        "id": "mV2af-b4fwvr",
        "colab": {
          "base_uri": "https://localhost:8080/"
        },
        "outputId": "43554756-9232-4ac3-fbe1-9d3d720c981e"
      },
      "source": [
        "i=0 \n",
        "while i<=4: # if the loop naturally terminates\n",
        "    print(i)\n",
        "    i+=1\n",
        "else:\n",
        "    print('successfully completed')"
      ],
      "execution_count": 22,
      "outputs": [
        {
          "output_type": "stream",
          "name": "stdout",
          "text": [
            "0\n",
            "1\n",
            "2\n",
            "3\n",
            "4\n",
            "successfully completed\n"
          ]
        }
      ]
    },
    {
      "cell_type": "code",
      "metadata": {
        "id": "GI5GiHizfrGB",
        "colab": {
          "base_uri": "https://localhost:8080/"
        },
        "outputId": "f179c478-1335-478c-d866-0ca60a5ed9ed"
      },
      "source": [
        "i=0 \n",
        "while not False: # infinite\n",
        "    if i==4: \n",
        "         break # manually stopping the loop\n",
        "    print(i)\n",
        "    i+=1 \n",
        "else:\n",
        "    print('successfully completed')"
      ],
      "execution_count": null,
      "outputs": [
        {
          "output_type": "stream",
          "name": "stdout",
          "text": [
            "0\n",
            "1\n",
            "2\n",
            "3\n"
          ]
        }
      ]
    },
    {
      "cell_type": "code",
      "metadata": {
        "id": "Im6GeFqC1U1k",
        "colab": {
          "base_uri": "https://localhost:8080/"
        },
        "outputId": "06036a37-9cfe-4cde-ff1f-a4c9957038b5"
      },
      "source": [
        "# Iterative Statements - while loop with else\n",
        "Letter = 'A'\n",
        "while (Letter <= 'G'):\n",
        "  print(Letter)\n",
        "  Letter = chr(ord(Letter)+1)\n",
        "else:\n",
        "  print (\"Out of While Loop\")"
      ],
      "execution_count": 24,
      "outputs": [
        {
          "output_type": "stream",
          "name": "stdout",
          "text": [
            "A\n",
            "B\n",
            "C\n",
            "D\n",
            "E\n",
            "F\n",
            "G\n",
            "Out of While Loop\n"
          ]
        }
      ]
    },
    {
      "cell_type": "code",
      "metadata": {
        "id": "8R4SwZztpS22",
        "colab": {
          "base_uri": "https://localhost:8080/"
        },
        "outputId": "86c0b793-f2dc-4d31-b0bf-71def740f046"
      },
      "source": [
        "# Iterative Statements - while loop with else\n",
        "Letter = 'A'\n",
        "while (True):\n",
        "  print(Letter)\n",
        "  Letter = chr(ord(Letter)+1)\n",
        "  if Letter >= 'G':\n",
        "    break\n",
        "else:\n",
        "  print (\"Out of While Loop\")"
      ],
      "execution_count": 26,
      "outputs": [
        {
          "output_type": "stream",
          "name": "stdout",
          "text": [
            "A\n",
            "B\n",
            "C\n",
            "D\n",
            "E\n",
            "F\n"
          ]
        }
      ]
    },
    {
      "cell_type": "code",
      "source": [
        "for i in range(4):\n",
        "    print(i)"
      ],
      "metadata": {
        "colab": {
          "base_uri": "https://localhost:8080/"
        },
        "id": "5LZvztcGknnG",
        "outputId": "63ca6055-4f7e-472e-cf75-df96068d716e"
      },
      "execution_count": 27,
      "outputs": [
        {
          "output_type": "stream",
          "name": "stdout",
          "text": [
            "0\n",
            "1\n",
            "2\n",
            "3\n"
          ]
        }
      ]
    },
    {
      "cell_type": "code",
      "source": [
        "for i in range(4):\n",
        "    print(i)\n",
        "else:\n",
        "    print(\"successfully completed\")  "
      ],
      "metadata": {
        "colab": {
          "base_uri": "https://localhost:8080/"
        },
        "id": "OVzTiE-BkrkJ",
        "outputId": "f7e0f30f-069a-4be1-c565-cad97aa61ecb"
      },
      "execution_count": 29,
      "outputs": [
        {
          "output_type": "stream",
          "name": "stdout",
          "text": [
            "0\n",
            "1\n",
            "2\n",
            "3\n",
            "successfully completed\n"
          ]
        }
      ]
    },
    {
      "cell_type": "code",
      "source": [
        "for i in range(25):\n",
        "    if i <= 2:\n",
        "        print(i)\n",
        "else:\n",
        "    print(\"successfully completed\")  "
      ],
      "metadata": {
        "colab": {
          "base_uri": "https://localhost:8080/"
        },
        "id": "xgIlB_D0lhGX",
        "outputId": "79767919-b768-4207-db1b-7f55a1c69dec"
      },
      "execution_count": 32,
      "outputs": [
        {
          "output_type": "stream",
          "name": "stdout",
          "text": [
            "0\n",
            "1\n",
            "2\n",
            "successfully completed\n"
          ]
        }
      ]
    },
    {
      "cell_type": "markdown",
      "metadata": {
        "id": "Ssrra6RRqp7a"
      },
      "source": [
        "#PASS VS NONE"
      ]
    },
    {
      "cell_type": "code",
      "metadata": {
        "id": "dD_ipiPofjXU"
      },
      "source": [
        "a = None\n",
        "b = pass # it is an empty statement"
      ],
      "execution_count": null,
      "outputs": []
    },
    {
      "cell_type": "code",
      "source": [
        "#pass\n",
        "for i in range(1):\n",
        "    pass\n",
        "    print(i)"
      ],
      "metadata": {
        "colab": {
          "base_uri": "https://localhost:8080/"
        },
        "id": "c5sWpm0PmuIu",
        "outputId": "ebf7706c-9daf-4a8a-8876-46aafa438cd2"
      },
      "execution_count": 39,
      "outputs": [
        {
          "output_type": "stream",
          "name": "stdout",
          "text": [
            "0\n"
          ]
        }
      ]
    },
    {
      "cell_type": "code",
      "source": [
        "#ellipses\n",
        "for i in range(1):\n",
        "    ...\n",
        "    print(i)"
      ],
      "metadata": {
        "colab": {
          "base_uri": "https://localhost:8080/"
        },
        "id": "lC3pY6BlmbEu",
        "outputId": "6d310b7f-2d25-4f4c-8523-cc7950100135"
      },
      "execution_count": 38,
      "outputs": [
        {
          "output_type": "stream",
          "name": "stdout",
          "text": [
            "0\n"
          ]
        }
      ]
    },
    {
      "cell_type": "code",
      "metadata": {
        "id": "guxspFT1fRJC"
      },
      "source": [
        "for i in range(4):\n",
        "    if i==2:\n",
        "        continue\n",
        "    else:\n",
        "        print(i) "
      ],
      "execution_count": null,
      "outputs": []
    },
    {
      "cell_type": "code",
      "metadata": {
        "id": "ddDqLdwS41Xc",
        "colab": {
          "base_uri": "https://localhost:8080/"
        },
        "outputId": "fb56df51-f8b2-449d-eece-6d8fd9c88de5"
      },
      "source": [
        "# Iterative Statements - while loop with else\n",
        "# else can be skipped using break\n",
        "Letter = 'A'\n",
        "while True:\n",
        "  print(Letter)\n",
        "  Letter = chr(ord(Letter)+1)\n",
        "  if (Letter <= 'G'): \n",
        "    continue\n",
        "  else : \n",
        "    break\n",
        "else:\n",
        "  print (\"Sample\")\n",
        "\n",
        "print (\"**********\\nGuess why sample is not printed ???\")"
      ],
      "execution_count": 43,
      "outputs": [
        {
          "output_type": "stream",
          "name": "stdout",
          "text": [
            "A\n",
            "B\n",
            "C\n",
            "D\n",
            "E\n",
            "F\n",
            "G\n",
            "**********\n",
            "Guess why sample is not printed ???\n"
          ]
        }
      ]
    },
    {
      "cell_type": "code",
      "source": [
        "for i in range(2):\n",
        "    print(i)"
      ],
      "metadata": {
        "colab": {
          "base_uri": "https://localhost:8080/"
        },
        "id": "pkPWQ-adpYRR",
        "outputId": "316ed2d2-6e96-448e-cb3c-96b794982130"
      },
      "execution_count": 44,
      "outputs": [
        {
          "output_type": "stream",
          "name": "stdout",
          "text": [
            "0\n",
            "1\n"
          ]
        }
      ]
    },
    {
      "cell_type": "code",
      "source": [
        "for i in range(2):\n",
        " print(i)"
      ],
      "metadata": {
        "colab": {
          "base_uri": "https://localhost:8080/"
        },
        "id": "-j0ihHP9pdZW",
        "outputId": "ae443bf8-bdfe-4bb7-91c6-4130ca47dfad"
      },
      "execution_count": 45,
      "outputs": [
        {
          "output_type": "stream",
          "name": "stdout",
          "text": [
            "0\n",
            "1\n"
          ]
        }
      ]
    },
    {
      "cell_type": "markdown",
      "metadata": {
        "id": "vpc2kROfqu3e"
      },
      "source": [
        "#Check your understanding"
      ]
    },
    {
      "cell_type": "code",
      "source": [
        "s = 'apple' #-> sequence -> continuous one\n",
        "\n",
        "s[3]"
      ],
      "metadata": {
        "colab": {
          "base_uri": "https://localhost:8080/",
          "height": 35
        },
        "id": "9G8_M0VAp5uK",
        "outputId": "0e3ce4d5-32ae-4e3b-8dbb-6b073cc13b39"
      },
      "execution_count": 47,
      "outputs": [
        {
          "output_type": "execute_result",
          "data": {
            "application/vnd.google.colaboratory.intrinsic+json": {
              "type": "string"
            },
            "text/plain": [
              "'l'"
            ]
          },
          "metadata": {},
          "execution_count": 47
        }
      ]
    },
    {
      "cell_type": "code",
      "source": [
        "len(s)"
      ],
      "metadata": {
        "colab": {
          "base_uri": "https://localhost:8080/"
        },
        "id": "pppFw8CIqHIf",
        "outputId": "12272ebd-2ba9-4bdb-f494-1906679ef148"
      },
      "execution_count": 48,
      "outputs": [
        {
          "output_type": "execute_result",
          "data": {
            "text/plain": [
              "5"
            ]
          },
          "metadata": {},
          "execution_count": 48
        }
      ]
    },
    {
      "cell_type": "code",
      "metadata": {
        "id": "I-lyW4mc80-f",
        "colab": {
          "base_uri": "https://localhost:8080/"
        },
        "outputId": "8c40f176-b0ae-4e5c-baf0-53b5a1e159a2"
      },
      "source": [
        "a ='abc12adsfcc'\n",
        "\n",
        "for i in range(len(a)):\n",
        "    print(a[i],'is at',i)"
      ],
      "execution_count": 53,
      "outputs": [
        {
          "output_type": "stream",
          "name": "stdout",
          "text": [
            "a is at 0\n",
            "b is at 1\n",
            "c is at 2\n",
            "1 is at 3\n",
            "2 is at 4\n",
            "a is at 5\n",
            "d is at 6\n",
            "s is at 7\n",
            "f is at 8\n",
            "c is at 9\n",
            "c is at 10\n"
          ]
        }
      ]
    },
    {
      "cell_type": "code",
      "metadata": {
        "id": "OMp_qGzf9r7y",
        "colab": {
          "base_uri": "https://localhost:8080/"
        },
        "outputId": "f0f31443-fb61-414e-e606-f3d1e31e3b8b"
      },
      "source": [
        "b = [1,2,3,'a','b']\n",
        "#print(b[3])\n",
        "\n",
        "for i in range(len(b)):\n",
        "    print(b[i])"
      ],
      "execution_count": 56,
      "outputs": [
        {
          "output_type": "stream",
          "name": "stdout",
          "text": [
            "1\n",
            "2\n",
            "3\n",
            "a\n",
            "b\n"
          ]
        }
      ]
    },
    {
      "cell_type": "code",
      "source": [
        "b = (1,2,3,'a','b')\n",
        "\n",
        "for i in range(len(b)):\n",
        "    print(b[i])"
      ],
      "metadata": {
        "colab": {
          "base_uri": "https://localhost:8080/"
        },
        "id": "pyk3To81q8OO",
        "outputId": "27b4480c-3225-4791-969c-c53300d2ea66"
      },
      "execution_count": 57,
      "outputs": [
        {
          "output_type": "stream",
          "name": "stdout",
          "text": [
            "1\n",
            "2\n",
            "3\n",
            "a\n",
            "b\n"
          ]
        }
      ]
    },
    {
      "cell_type": "markdown",
      "metadata": {
        "id": "swu6uIn2q0iG"
      },
      "source": [
        "#Nested loops"
      ]
    },
    {
      "cell_type": "code",
      "metadata": {
        "id": "medGX9405v7a"
      },
      "source": [
        "# N Loops\n",
        "  # E Loops\n",
        "    # S Loops\n",
        "      # T Loops\n",
        "        # E Loops\n",
        "          # D Loops"
      ],
      "execution_count": null,
      "outputs": []
    },
    {
      "cell_type": "code",
      "metadata": {
        "id": "st3ccllP-DAO"
      },
      "source": [
        "\n",
        "\n",
        " #i     0  1   2 \n",
        " #j     0  1\n",
        "\n",
        "#i0  j0\n",
        "#i0  j1\n",
        "#i1  j0\n",
        "#i1  j1\n",
        "#i2  j0\n",
        "#i2  j1\n",
        "for i in range(4): #0 1 2 3 \n",
        "    for j in range(3): # 0 1 2\n",
        "        for k in range(2): # 0 1\n",
        "            print(i,j,k)"
      ],
      "execution_count": null,
      "outputs": []
    },
    {
      "cell_type": "code",
      "metadata": {
        "id": "-BLA3Deh_7Mb"
      },
      "source": [
        "for i in range(4): #0 1 2 3 \n",
        "    print(i)"
      ],
      "execution_count": null,
      "outputs": []
    },
    {
      "cell_type": "code",
      "metadata": {
        "id": "OsO31kJqATrJ"
      },
      "source": [
        "for outernumber in range(4): #0 1 2 3 \n",
        "    for j in range(3): #0 1 2\n",
        "        print(outernumber,j)"
      ],
      "execution_count": null,
      "outputs": []
    },
    {
      "cell_type": "code",
      "metadata": {
        "id": "Kk392f2JAGHy"
      },
      "source": [
        "i=0\n",
        "while i<4:\n",
        "    print(i)\n",
        "    i+=1"
      ],
      "execution_count": null,
      "outputs": []
    },
    {
      "cell_type": "code",
      "metadata": {
        "id": "47Yz0KshArRP"
      },
      "source": [
        "i=0\n",
        "while i<4:\n",
        "    j=0\n",
        "    while j<3:\n",
        "        print(i,j)\n",
        "        j=j+1\n",
        "    i=i+1"
      ],
      "execution_count": null,
      "outputs": []
    },
    {
      "cell_type": "code",
      "metadata": {
        "id": "pRJ0tWCEHtzn"
      },
      "source": [
        "#Nesting of loops\n",
        "OutNum = 1 \n",
        "InnNum = 1\n",
        "while OutNum <= 5:\n",
        "  while InnNum <= OutNum:\n",
        "    print(OutNum,end = ' ')\n",
        "    InnNum = InnNum + 1\n",
        "  OutNum += 1\n",
        "  InnNum = 1\n",
        "  print('\\n')"
      ],
      "execution_count": null,
      "outputs": []
    },
    {
      "cell_type": "markdown",
      "metadata": {
        "id": "kvRjHVIcR6fV"
      },
      "source": [
        "Make suitable changes to print the pattern as follows :\n",
        "\n",
        "5 4 3 2 1\n",
        "\n",
        "4 3 2 1\n",
        "\n",
        "3 2 1\n",
        "\n",
        "2 1\n",
        "\n",
        "1"
      ]
    },
    {
      "cell_type": "code",
      "metadata": {
        "id": "-JhpqFI1cTMY"
      },
      "source": [
        "for rows in range(5,0,-1): #1,2, 3,4,5\n",
        "    for cols in range(rows):\n",
        "        print(rows,end='')\n",
        "    print()"
      ],
      "execution_count": null,
      "outputs": []
    },
    {
      "cell_type": "code",
      "metadata": {
        "id": "_XYwRuzOhL2c"
      },
      "source": [
        "for i in range(3):  \n",
        "    for j in range(3):  \n",
        "        print(i,j)\n",
        "    print()"
      ],
      "execution_count": null,
      "outputs": []
    },
    {
      "cell_type": "code",
      "metadata": {
        "id": "IkU9ySaygKZl"
      },
      "source": [
        "1\n",
        "22\n",
        "333\n",
        "4444"
      ],
      "execution_count": null,
      "outputs": []
    },
    {
      "cell_type": "code",
      "metadata": {
        "id": "xUvNZY8AFHmf"
      },
      "source": [
        "n = int(input('enter any number')) #use floor division\n",
        "count=0\n",
        "while n>0:\n",
        "    n //= 10\n",
        "    count +=1\n",
        "print(\"the total no of digits are\",count)"
      ],
      "execution_count": null,
      "outputs": []
    },
    {
      "cell_type": "code",
      "metadata": {
        "id": "1O7-AihykhJ9"
      },
      "source": [
        "101%10"
      ],
      "execution_count": null,
      "outputs": []
    },
    {
      "cell_type": "markdown",
      "metadata": {
        "id": "88qVZzRIq7G-"
      },
      "source": [
        "#Exercises"
      ]
    },
    {
      "cell_type": "code",
      "metadata": {
        "id": "k7lwl33CHKO1"
      },
      "source": [
        "#WRITE A PROGRAM TO ADD THE LAST DIGITS OF THE NUMBERS\n",
        "123,555,6696,777777\n",
        "\n",
        "#OUTPUT: 3+5+6+7 = 21\n",
        "n = int(input(\"enter the number of numbers to add last digit: \"))\n",
        "sum=0\n",
        "for i in range(n):\n",
        "    num = int(input(\"enter the numbers one by one\"))\n",
        "    sum = sum + (num %10)\n",
        "print(sum)"
      ],
      "execution_count": null,
      "outputs": []
    },
    {
      "cell_type": "code",
      "metadata": {
        "id": "fVP88IPNlZNt"
      },
      "source": [
        "n = int(input(\"enter the number of numbers to add last digit: \"))\n",
        "sum = 0\n",
        "i=0\n",
        "while i<\n"
      ],
      "execution_count": null,
      "outputs": []
    },
    {
      "cell_type": "markdown",
      "metadata": {
        "id": "LNQWs8PtXRLA"
      },
      "source": [
        "For Loops :  For loops are used for sequential traversal. For example: traversing a list or string or array etc.  \n",
        "\n",
        "Syntax : \n",
        " for iterator_var in sequence:\n",
        "    statements(s)\n",
        "  \n",
        "Iterator is an object which allows a programmer to traverse through all the elements of a collection, regardless of its specific implementation.\n",
        "\n",
        "For example Integers,Lists, Tuples, Dictionaries, strings\n",
        "\n",
        "**For can be used to iterate over a range and iterators.**"
      ]
    },
    {
      "cell_type": "code",
      "metadata": {
        "id": "woAiNkKqZdL1"
      },
      "source": [
        "# for loops\n",
        "for Num in range(1,6):\n",
        "  print (Num)\n"
      ],
      "execution_count": null,
      "outputs": []
    },
    {
      "cell_type": "code",
      "metadata": {
        "id": "neTT8B1Xa9mo"
      },
      "source": [
        "#for with step values\n",
        "for Num in range(1,10,2):\n",
        "  print(Num, end= ' ')"
      ],
      "execution_count": null,
      "outputs": []
    },
    {
      "cell_type": "code",
      "metadata": {
        "id": "0McnzGgxbPUn",
        "colab": {
          "base_uri": "https://localhost:8080/"
        },
        "outputId": "915ee433-1fdd-4a0e-88f7-0569c3b01b22"
      },
      "source": [
        "#for with step values\n",
        "st = 3\n",
        "for Num in range(1,10,st): # step value is fixed in the begining of For loop execution, it cannot be altered during execution\n",
        "  print(Num, end= ' ')\n",
        "  st += 1"
      ],
      "execution_count": null,
      "outputs": [
        {
          "output_type": "stream",
          "name": "stdout",
          "text": [
            "1 4 7 "
          ]
        }
      ]
    },
    {
      "cell_type": "code",
      "metadata": {
        "id": "B5kLoVN_9Ve-"
      },
      "source": [
        ""
      ],
      "execution_count": null,
      "outputs": []
    },
    {
      "cell_type": "code",
      "metadata": {
        "id": "dcuFrYB4agTQ"
      },
      "source": [
        "for Letter in range(ord('A'),ord('Z'),8):\n",
        "  print (chr(Letter), end = ' ')"
      ],
      "execution_count": null,
      "outputs": []
    },
    {
      "cell_type": "markdown",
      "metadata": {
        "id": "7FKs6PYIbrfO"
      },
      "source": [
        "Write suitable code to print Integers in the reverse order as follows : 5 4 3 2 1\n"
      ]
    },
    {
      "cell_type": "code",
      "metadata": {
        "id": "1KtuS7O0cK7d"
      },
      "source": [
        "for Num in range(5,0,-1) :\n",
        "  print(Num,end = ' ')"
      ],
      "execution_count": null,
      "outputs": []
    },
    {
      "cell_type": "code",
      "metadata": {
        "id": "qRrG2xArdfbo"
      },
      "source": [
        "# with strings\n",
        "Word = \"Online Training\"\n",
        "#l=[[1,2],[3,4]]\n",
        "for letter in Word :\n",
        "  print(letter, end = '\\n',sep='@')"
      ],
      "execution_count": null,
      "outputs": []
    },
    {
      "cell_type": "code",
      "metadata": {
        "id": "lBcHsRODihCP"
      },
      "source": [
        "Word = \"Online Training\"\n",
        "print(Word,sep='@')"
      ],
      "execution_count": null,
      "outputs": []
    },
    {
      "cell_type": "code",
      "metadata": {
        "id": "iesJqPVkdtDY"
      },
      "source": [
        "# with Lists\n",
        "WordLst = ['One','Two','Three']\n",
        "for Word in WordLst:\n",
        "  print(Word , sep='@',end = ' ')"
      ],
      "execution_count": null,
      "outputs": []
    },
    {
      "cell_type": "code",
      "metadata": {
        "id": "CP3qKW5efV0E"
      },
      "source": [
        "# Nesting of while loops\n",
        "for Num in range(0,6):\n",
        "  print(Num ,\":  Stars :\",end = ' ')\n",
        "  for Inn in range(1,Num+1):\n",
        "    print('*',end = ' ')\n",
        "  print('\\n')"
      ],
      "execution_count": null,
      "outputs": []
    },
    {
      "cell_type": "code",
      "metadata": {
        "id": "mT92ZVfTeBkw"
      },
      "source": [
        "# Nested with Lists\n",
        "WordLst = ['One','Two','Three']\n",
        "for Word in WordLst:\n",
        "  print(Word, ' : ', end = ' ')\n",
        "  for letter in Word:\n",
        "    print(letter , end = ' ')\n",
        "  print('\\n')"
      ],
      "execution_count": null,
      "outputs": []
    },
    {
      "cell_type": "code",
      "metadata": {
        "id": "ze-edVHGgNS_"
      },
      "source": [
        "#for with else block\n",
        "for Num in range(1,5):\n",
        "  print(Num)#,end = ' ')\n",
        "  break\n",
        "\n",
        "  \n",
        "print('hello')\n",
        "#else:\n",
        "#  print(\"\\n in ELSE block\")  "
      ],
      "execution_count": null,
      "outputs": []
    },
    {
      "cell_type": "markdown",
      "metadata": {
        "id": "f_INI6U9rCom"
      },
      "source": [
        "#Usage of \n",
        "1. for....else\n",
        "2.  while....else"
      ]
    },
    {
      "cell_type": "code",
      "metadata": {
        "id": "PQFWr6MaggS4"
      },
      "source": [
        "#Using Control statements continue\n",
        "#for with else block\n",
        "for Num in range(1,5): #1,2,3,4\n",
        "   if Num % 2==0:\n",
        "     break\n",
        "   print (Num,end = ' ')\n",
        "else:\n",
        "  print(\"\\n in ELSE block\")  "
      ],
      "execution_count": null,
      "outputs": []
    },
    {
      "cell_type": "code",
      "metadata": {
        "id": "N-KcyWyuhFzr"
      },
      "source": [
        "#Using Control statements by pass Else Block\n",
        "#for with else block\n",
        "for Num in range(1,10):\n",
        "   if (Num % 2==0):\n",
        "     continue\n",
        "   print (Num,end = ' ')\n",
        "   if (Num >= 8):\n",
        "     break\n",
        "else:\n",
        "  print(\"\\n in ELSE block\")  "
      ],
      "execution_count": null,
      "outputs": []
    },
    {
      "cell_type": "code",
      "metadata": {
        "id": "wu8Yaf2khg8V"
      },
      "source": [
        "# Empty loops\n",
        "for Num in range(1,20):\n",
        "  pass\n",
        "  "
      ],
      "execution_count": null,
      "outputs": []
    },
    {
      "cell_type": "markdown",
      "metadata": {
        "id": "CvxmOUOIh50M"
      },
      "source": [
        "A final note on loop nesting is that we can put any type of loop inside of any other type of loop. For example a for loop can be inside a while loop or vice versa."
      ]
    },
    {
      "cell_type": "code",
      "metadata": {
        "id": "EA-hbGeihulL"
      },
      "source": [
        "#We can mix up for and while\n",
        "Num = 1\n",
        "while (Num <= 5):\n",
        "  for Inn in range(1, Num+1):\n",
        "    print(Inn,end =  ' ')\n",
        "  print('\\n')\n",
        "  Num += 1\n"
      ],
      "execution_count": null,
      "outputs": []
    },
    {
      "cell_type": "code",
      "metadata": {
        "id": "_lFZDB73hcaT"
      },
      "source": [
        ""
      ],
      "execution_count": null,
      "outputs": []
    },
    {
      "cell_type": "code",
      "metadata": {
        "id": "vAmr3gw36fSy"
      },
      "source": [
        "a = 'hello'\n",
        "print(id('h'))\n",
        "#a[0]='0'\n",
        "#print(id(a[0]))\n",
        "\n",
        "b = ['h','e','l','l','o']\n",
        "b[0]=\"one\"\n",
        "print(id(b))\n",
        "print(id(b[0]))\n"
      ],
      "execution_count": null,
      "outputs": []
    },
    {
      "cell_type": "markdown",
      "metadata": {
        "id": "MQHcDd7Q1zXl"
      },
      "source": [
        "[Sorting Video](https://www.youtube.com/watch?v=Cq7SMsQBEUw)"
      ]
    },
    {
      "cell_type": "markdown",
      "metadata": {
        "id": "mke7SHpd4doM"
      },
      "source": [
        "[simple example](https://i0.wp.com/montessorifromtheheart.com/wp-content/uploads/2019/04/Sorting-Wooden-Beads-Math-Preschool.jpg)"
      ]
    },
    {
      "cell_type": "code",
      "metadata": {
        "id": "wbFobnlK4ViE"
      },
      "source": [
        "def bubbleSort(ar):\n",
        "  n = len(arr)\n",
        "  for i in range(n):\n",
        "  # Last i elements are already in correct position\n",
        "    for j in range(0, n-i-1):\n",
        "      # Swap if the element found is greater than the next element\n",
        "      if ar[j] > ar[j+1] :\n",
        "        ar[j], ar[j+1] = ar[j+1], ar[j]\n",
        "# Driver code to test above\n",
        "ar = [55,33,2,1,24,21,45]\n",
        "bubbleSort(ar)\n",
        "print (\"Sorted array is:\")\n",
        "for i in range(len(ar)):\n",
        "   print (ar[i])\n"
      ],
      "execution_count": null,
      "outputs": []
    },
    {
      "cell_type": "code",
      "metadata": {
        "id": "1ulayCi27bvW"
      },
      "source": [
        ""
      ],
      "execution_count": null,
      "outputs": []
    }
  ]
}